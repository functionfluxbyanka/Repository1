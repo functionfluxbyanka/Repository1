{
 "cells": [
  {
   "cell_type": "markdown",
   "id": "fac7c0ee-09b7-46c4-950b-b994e8abea77",
   "metadata": {},
   "source": [
    "# Data Science Tools and Ecosystem"
   ]
  },
  {
   "cell_type": "markdown",
   "id": "64dc6ff1-c8a6-4013-80aa-aad888982bf5",
   "metadata": {},
   "source": [
    "In this notebook, Data Science Tools and Ecosystems are summarized."
   ]
  },
  {
   "cell_type": "markdown",
   "id": "2ae5dbaa-e5ca-4780-9caa-cdaa760df587",
   "metadata": {},
   "source": [
    "**Objectives**\n",
    "* popular languages that Data Scientist use\n",
    "* commonly used libraries used by Data Scientist\n",
    "* Data Science Tools"
   ]
  },
  {
   "cell_type": "markdown",
   "id": "f160e1dc-011f-4be7-9aa3-e5e5ccbeed76",
   "metadata": {},
   "source": [
    "Some of the popular languages that Data Scientist use are: \n",
    "1. Python \n",
    "2. R\n",
    "3. SQL"
   ]
  },
  {
   "cell_type": "markdown",
   "id": "9f20fc73-ce9c-436a-9499-f75598e3e2d6",
   "metadata": {},
   "source": [
    "Some of the commonly used libraries used by Data Scientist include:\n",
    "1. NumPy\n",
    "2. Panda\n",
    "3. Matplotlib"
   ]
  },
  {
   "cell_type": "markdown",
   "id": "23b1445e-3e43-4c83-a56c-b49c21d7a8cf",
   "metadata": {},
   "source": [
    "| Data Science Tools |\n",
    "| ------ |\n",
    "| JupyterLab |\n",
    "| VS Code |\n",
    "| RStudio |\n",
    "\n"
   ]
  },
  {
   "cell_type": "markdown",
   "id": "95e5ba3c-c4ba-4004-add5-6f9dfbc2b30a",
   "metadata": {},
   "source": [
    "### Below are a few examples of evaluating arithmetic expressions in Python"
   ]
  },
  {
   "cell_type": "code",
   "execution_count": 12,
   "id": "198fe4fd-3c3d-4fc5-9c6b-f336c6703530",
   "metadata": {},
   "outputs": [
    {
     "data": {
      "text/plain": [
       "17"
      ]
     },
     "execution_count": 12,
     "metadata": {},
     "output_type": "execute_result"
    }
   ],
   "source": [
    "# This is a simple arithmetic expression to multiply then add integers\n",
    "(3*4)+5"
   ]
  },
  {
   "cell_type": "code",
   "execution_count": 13,
   "id": "0a01a739-a597-4c50-895e-19142328ceef",
   "metadata": {},
   "outputs": [
    {
     "data": {
      "text/plain": [
       "3.3333333333333335"
      ]
     },
     "execution_count": 13,
     "metadata": {},
     "output_type": "execute_result"
    }
   ],
   "source": [
    "# This will convert 200 minutes to hours by diving by 60\n",
    "200/60"
   ]
  },
  {
   "cell_type": "markdown",
   "id": "caa3b260-c7e6-4715-9655-907448cda4ee",
   "metadata": {},
   "source": [
    "## Author \n",
    "functionfluxbyanka "
   ]
  },
  {
   "cell_type": "code",
   "execution_count": null,
   "id": "4c63e28a-a083-4596-b204-c80a585391e3",
   "metadata": {},
   "outputs": [],
   "source": []
  }
 ],
 "metadata": {
  "kernelspec": {
   "display_name": "Python 3 (ipykernel)",
   "language": "python",
   "name": "python3"
  },
  "language_info": {
   "codemirror_mode": {
    "name": "ipython",
    "version": 3
   },
   "file_extension": ".py",
   "mimetype": "text/x-python",
   "name": "python",
   "nbconvert_exporter": "python",
   "pygments_lexer": "ipython3",
   "version": "3.12.8"
  }
 },
 "nbformat": 4,
 "nbformat_minor": 5
}
